{
 "cells": [
  {
   "cell_type": "code",
   "execution_count": 1,
   "id": "5a55482a",
   "metadata": {},
   "outputs": [],
   "source": [
    "# Python Program that helps translate Speech to Text and vice-versa"
   ]
  },
  {
   "cell_type": "code",
   "execution_count": 2,
   "id": "a04eb7ae",
   "metadata": {
    "scrolled": true
   },
   "outputs": [],
   "source": [
    "import speech_recognition\n",
    "import pyttsx3\n",
    "import voices\n",
    "from googletrans import Translator"
   ]
  },
  {
   "cell_type": "code",
   "execution_count": 3,
   "id": "edd564e7",
   "metadata": {},
   "outputs": [],
   "source": [
    "engine = pyttsx3.init()\n",
    "voices = engine.getProperty('voices')\n",
    "for voice in voices:\n",
    "    print(f\"Voice: {voice.name}\")\n",
    "    print(f\"Voice: {voice.id}\")"
   ]
  },
  {
   "cell_type": "code",
   "execution_count": 4,
   "id": "e4e80e8d",
   "metadata": {},
   "outputs": [],
   "source": [
    "# The Recognizer is initialized.\n",
    "engine = pyttsx3.init()\n",
    "UserVoiceRecognizer = speech_recognition.Recognizer()"
   ]
  },
  {
   "cell_type": "code",
   "execution_count": 5,
   "id": "40811eb7",
   "metadata": {},
   "outputs": [],
   "source": [
    "def getLanguage(argument):\n",
    "    switcher = {\n",
    "        0: \"en-IN\",\n",
    "        6: \"hi-IN\",\n",
    "        5: \"zh-CN\",\n",
    "        4: \"ko-KR\",\n",
    "        3: \"ja-JP\",\n",
    "        1: \"de-de\"\n",
    "    }\n",
    "    return switcher.get(argument, 0)"
   ]
  },
  {
   "cell_type": "code",
   "execution_count": 6,
   "id": "d9adcb22",
   "metadata": {},
   "outputs": [],
   "source": [
    "def get_Language(argument):\n",
    "    switcher = {\n",
    "        0: \"en\",\n",
    "        6: \"hi\",\n",
    "        5: \"zh-CN\",\n",
    "        4: \"ko\",\n",
    "        3: \"ja\",\n",
    "        1: \"de\"\n",
    "    }\n",
    "    return switcher.get(argument, \"en\")"
   ]
  },
  {
   "cell_type": "code",
   "execution_count": 7,
   "id": "2ce4f77e",
   "metadata": {},
   "outputs": [],
   "source": [
    "def getSelection():\n",
    "    while True:\n",
    "        try:\n",
    "            userInput = int(input())\n",
    "            if userInput < 0 or userInput > 6:\n",
    "                print(\"Not an integer! Try again.\")\n",
    "                continue\n",
    "        except ValueError:\n",
    "            print(\"Not an integer! Try again.\")\n",
    "            continue\n",
    "        else:\n",
    "            return userInput\n",
    "            break"
   ]
  },
  {
   "cell_type": "code",
   "execution_count": 8,
   "id": "16b30f4b",
   "metadata": {},
   "outputs": [],
   "source": [
    "translator = Translator()"
   ]
  },
  {
   "cell_type": "code",
   "execution_count": null,
   "id": "02ab9926",
   "metadata": {},
   "outputs": [],
   "source": [
    "while 1:\n",
    "    try:\n",
    "        print(\"Select your language:\")\n",
    "        print(\"0. ENGLISH\")\n",
    "        print(\"6. HINDI\")\n",
    "        print(\"5. Chinese\")\n",
    "        print(\"4. KOREAN\")\n",
    "        print(\"3. JAPANESE\")\n",
    "        print(\"1. GERMAN\")\n",
    "        lang = getLanguage(getSelection())\n",
    "\n",
    "        with speech_recognition.Microphone() as UserVoiceInputSource:\n",
    "            UserVoiceRecognizer.adjust_for_ambient_noise(UserVoiceInputSource, duration=0.5)\n",
    "\n",
    "            # The Program listens to the user voice input.\n",
    "            UserVoiceInput = UserVoiceRecognizer.listen(UserVoiceInputSource)\n",
    "            UserVoiceInput_converted_to_Text = UserVoiceRecognizer.recognize_google(UserVoiceInput, language=lang)\n",
    "            UserVoiceInput_converted_to_Text = UserVoiceInput_converted_to_Text.lower()\n",
    "            print(\"Detected Text:\", UserVoiceInput_converted_to_Text)\n",
    "\n",
    "            print(\"0. ENGLISH\")\n",
    "            print(\"6. HINDI\")\n",
    "            print(\"5. Chinese\")\n",
    "            print(\"4. KOREAN\")\n",
    "            print(\"3. JAPANESE\")\n",
    "            print(\"1. GERMAN\")\n",
    "            tran = getSelection()\n",
    "            lang = get_Language(tran)\n",
    "            print(\"Selected Language:\", lang)\n",
    "            translated_text = translator.translate(UserVoiceInput_converted_to_Text, dest=lang)\n",
    "            translation_result = translated_text.text\n",
    "            print(\"Translated Text:\", translation_result)\n",
    "            voices = engine.getProperty('voices')\n",
    "            if len(voices) > 0:\n",
    "                desired_voice = voices[tran].id  # Use the first voice in the list\n",
    "                engine.setProperty('voice', desired_voice)\n",
    "            else:\n",
    "                print(\"No voices available.\")\n",
    "            #engine.setProperty('rate', 145)\n",
    "            engine.setProperty('voice', lang)\n",
    "            engine.say(translation_result)\n",
    "            # play the speech\n",
    "            engine.runAndWait()\n",
    "\n",
    "            #engine.setProperty('voice', lang)  # Set the desired language voice\n",
    "            #engine.say(translation_result)\n",
    "            #engine.runAndWait()\n",
    "\n",
    "    except KeyboardInterrupt:\n",
    "        print('A KeyboardInterrupt encountered; Terminating the Program !!!')\n",
    "        exit(0)\n",
    "\n",
    "    except speech_recognition.UnknownValueError:\n",
    "        print(\"No User Voice detected OR unintelligible noises detected OR the recognized audio cannot be matched to text !!! \\n CAN YOU PLEASE DO IT AGAIN\")"
   ]
  },
  {
   "cell_type": "code",
   "execution_count": null,
   "id": "617324d0",
   "metadata": {},
   "outputs": [],
   "source": []
  }
 ],
 "metadata": {
  "kernelspec": {
   "display_name": "Python 3 (ipykernel)",
   "language": "python",
   "name": "python3"
  },
  "language_info": {
   "codemirror_mode": {
    "name": "ipython",
    "version": 3
   },
   "file_extension": ".py",
   "mimetype": "text/x-python",
   "name": "python",
   "nbconvert_exporter": "python",
   "pygments_lexer": "ipython3",
   "version": "3.11.3"
  }
 },
 "nbformat": 4,
 "nbformat_minor": 5
}
